{
 "cells": [
  {
   "cell_type": "code",
   "execution_count": 1,
   "metadata": {},
   "outputs": [
    {
     "name": "stderr",
     "output_type": "stream",
     "text": [
      "/home/mukul/miniconda3/envs/PF/lib/python3.10/site-packages/scipy/__init__.py:146: UserWarning: A NumPy version >=1.17.3 and <1.25.0 is required for this version of SciPy (detected version 1.26.4\n",
      "  warnings.warn(f\"A NumPy version >={np_minversion} and <{np_maxversion}\"\n"
     ]
    }
   ],
   "source": [
    "import numpy as np\n",
    "import torch\n",
    "import torch.nn as nn\n",
    "import matplotlib.pyplot as plt\n",
    "import random\n",
    "from torch.optim import LBFGS, Adam\n",
    "from tqdm import tqdm\n",
    "from scipy.stats import qmc\n",
    "from utils import *\n",
    "from pinn import PINNs\n",
    "# import deepxde as dde"
   ]
  },
  {
   "cell_type": "code",
   "execution_count": 2,
   "metadata": {},
   "outputs": [
    {
     "name": "stdout",
     "output_type": "stream",
     "text": [
      "264193\n"
     ]
    }
   ],
   "source": [
    "model = PINNs(in_dim=2, hidden_dim=256, out_dim=1, num_layer=6)\n",
    "n_params = get_n_params(model)\n",
    "print(n_params)"
   ]
  },
  {
   "cell_type": "code",
   "execution_count": 3,
   "metadata": {},
   "outputs": [],
   "source": [
    "seed = 0\n",
    "np.random.seed(seed)\n",
    "random.seed(seed)\n",
    "torch.manual_seed(seed)\n",
    "torch.cuda.manual_seed(seed)\n",
    "\n",
    "device = 'cpu'"
   ]
  },
  {
   "cell_type": "code",
   "execution_count": 4,
   "metadata": {},
   "outputs": [],
   "source": [
    "# BS params\n",
    "K = 4\n",
    "sigma = 0.3\n",
    "r = 0.03\n",
    "T = 1\n",
    "L = 10\n",
    "N_x = 101\n",
    "N_t = 101"
   ]
  },
  {
   "cell_type": "code",
   "execution_count": 5,
   "metadata": {},
   "outputs": [
    {
     "name": "stdout",
     "output_type": "stream",
     "text": [
      "(10000, 2) (101, 2) (101, 2) (101, 2) (101, 2)\n",
      "torch.Size([10000, 1]) torch.Size([101, 1]) torch.Size([101, 1]) torch.Size([101, 1]) torch.Size([101, 1])\n",
      "torch.Size([10000, 1]) torch.Size([101, 1]) torch.Size([101, 1]) torch.Size([101, 1]) torch.Size([101, 1])\n"
     ]
    }
   ],
   "source": [
    "res, b_left, b_right, b_upper, b_lower = get_data([0,10], [0, 1], N_x, N_t)\n",
    "res_test, _, _, _, _ = get_data([0,10], [0,1], N_x, N_t)\n",
    "print(res.shape, b_left.shape, b_right.shape, b_upper.shape, b_lower.shape)\n",
    "res = torch.tensor(res, dtype=torch.float32, requires_grad=True).to(device)\n",
    "b_left = torch.tensor(b_left, dtype=torch.float32, requires_grad=True).to(device)\n",
    "b_right = torch.tensor(b_right, dtype=torch.float32, requires_grad=True).to(device)\n",
    "b_upper = torch.tensor(b_upper, dtype=torch.float32, requires_grad=True).to(device)\n",
    "b_lower = torch.tensor(b_lower, dtype=torch.float32, requires_grad=True).to(device)\n",
    "x_res, t_res = res[:,0:1], res[:,1:2]\n",
    "x_left, t_left = b_left[:,0:1], b_left[:,1:2]\n",
    "x_right, t_right = b_right[:,0:1], b_right[:,1:2]\n",
    "x_upper, t_upper = b_upper[:,0:1], b_upper[:,1:2]\n",
    "x_lower, t_lower = b_lower[:,0:1], b_lower[:,1:2]\n",
    "\n",
    "print(x_res.shape, x_left.shape, x_right.shape, x_upper.shape, x_lower.shape)\n",
    "print(t_res.shape, t_left.shape, t_right.shape, t_upper.shape, t_lower.shape)"
   ]
  },
  {
   "cell_type": "code",
   "execution_count": 19,
   "metadata": {},
   "outputs": [
    {
     "data": {
      "text/plain": [
       "(tensor([[ 0.0000],\n",
       "         [ 0.1010],\n",
       "         [ 0.2020],\n",
       "         [ 0.3030],\n",
       "         [ 0.4040],\n",
       "         [ 0.5051],\n",
       "         [ 0.6061],\n",
       "         [ 0.7071],\n",
       "         [ 0.8081],\n",
       "         [ 0.9091],\n",
       "         [ 1.0101],\n",
       "         [ 1.1111],\n",
       "         [ 1.2121],\n",
       "         [ 1.3131],\n",
       "         [ 1.4141],\n",
       "         [ 1.5152],\n",
       "         [ 1.6162],\n",
       "         [ 1.7172],\n",
       "         [ 1.8182],\n",
       "         [ 1.9192],\n",
       "         [ 2.0202],\n",
       "         [ 2.1212],\n",
       "         [ 2.2222],\n",
       "         [ 2.3232],\n",
       "         [ 2.4242],\n",
       "         [ 2.5253],\n",
       "         [ 2.6263],\n",
       "         [ 2.7273],\n",
       "         [ 2.8283],\n",
       "         [ 2.9293],\n",
       "         [ 3.0303],\n",
       "         [ 3.1313],\n",
       "         [ 3.2323],\n",
       "         [ 3.3333],\n",
       "         [ 3.4343],\n",
       "         [ 3.5354],\n",
       "         [ 3.6364],\n",
       "         [ 3.7374],\n",
       "         [ 3.8384],\n",
       "         [ 3.9394],\n",
       "         [ 4.0404],\n",
       "         [ 4.1414],\n",
       "         [ 4.2424],\n",
       "         [ 4.3434],\n",
       "         [ 4.4444],\n",
       "         [ 4.5455],\n",
       "         [ 4.6465],\n",
       "         [ 4.7475],\n",
       "         [ 4.8485],\n",
       "         [ 4.9495],\n",
       "         [ 5.0505],\n",
       "         [ 5.1515],\n",
       "         [ 5.2525],\n",
       "         [ 5.3535],\n",
       "         [ 5.4545],\n",
       "         [ 5.5556],\n",
       "         [ 5.6566],\n",
       "         [ 5.7576],\n",
       "         [ 5.8586],\n",
       "         [ 5.9596],\n",
       "         [ 6.0606],\n",
       "         [ 6.1616],\n",
       "         [ 6.2626],\n",
       "         [ 6.3636],\n",
       "         [ 6.4646],\n",
       "         [ 6.5657],\n",
       "         [ 6.6667],\n",
       "         [ 6.7677],\n",
       "         [ 6.8687],\n",
       "         [ 6.9697],\n",
       "         [ 7.0707],\n",
       "         [ 7.1717],\n",
       "         [ 7.2727],\n",
       "         [ 7.3737],\n",
       "         [ 7.4747],\n",
       "         [ 7.5758],\n",
       "         [ 7.6768],\n",
       "         [ 7.7778],\n",
       "         [ 7.8788],\n",
       "         [ 7.9798],\n",
       "         [ 8.0808],\n",
       "         [ 8.1818],\n",
       "         [ 8.2828],\n",
       "         [ 8.3838],\n",
       "         [ 8.4848],\n",
       "         [ 8.5859],\n",
       "         [ 8.6869],\n",
       "         [ 8.7879],\n",
       "         [ 8.8889],\n",
       "         [ 8.9899],\n",
       "         [ 9.0909],\n",
       "         [ 9.1919],\n",
       "         [ 9.2929],\n",
       "         [ 9.3939],\n",
       "         [ 9.4949],\n",
       "         [ 9.5960],\n",
       "         [ 9.6970],\n",
       "         [ 9.7980],\n",
       "         [ 9.8990],\n",
       "         [10.0000]], device='cuda:0', grad_fn=<SliceBackward0>),\n",
       " tensor([[1.],\n",
       "         [1.],\n",
       "         [1.],\n",
       "         [1.],\n",
       "         [1.],\n",
       "         [1.],\n",
       "         [1.],\n",
       "         [1.],\n",
       "         [1.],\n",
       "         [1.],\n",
       "         [1.],\n",
       "         [1.],\n",
       "         [1.],\n",
       "         [1.],\n",
       "         [1.],\n",
       "         [1.],\n",
       "         [1.],\n",
       "         [1.],\n",
       "         [1.],\n",
       "         [1.],\n",
       "         [1.],\n",
       "         [1.],\n",
       "         [1.],\n",
       "         [1.],\n",
       "         [1.],\n",
       "         [1.],\n",
       "         [1.],\n",
       "         [1.],\n",
       "         [1.],\n",
       "         [1.],\n",
       "         [1.],\n",
       "         [1.],\n",
       "         [1.],\n",
       "         [1.],\n",
       "         [1.],\n",
       "         [1.],\n",
       "         [1.],\n",
       "         [1.],\n",
       "         [1.],\n",
       "         [1.],\n",
       "         [1.],\n",
       "         [1.],\n",
       "         [1.],\n",
       "         [1.],\n",
       "         [1.],\n",
       "         [1.],\n",
       "         [1.],\n",
       "         [1.],\n",
       "         [1.],\n",
       "         [1.],\n",
       "         [1.],\n",
       "         [1.],\n",
       "         [1.],\n",
       "         [1.],\n",
       "         [1.],\n",
       "         [1.],\n",
       "         [1.],\n",
       "         [1.],\n",
       "         [1.],\n",
       "         [1.],\n",
       "         [1.],\n",
       "         [1.],\n",
       "         [1.],\n",
       "         [1.],\n",
       "         [1.],\n",
       "         [1.],\n",
       "         [1.],\n",
       "         [1.],\n",
       "         [1.],\n",
       "         [1.],\n",
       "         [1.],\n",
       "         [1.],\n",
       "         [1.],\n",
       "         [1.],\n",
       "         [1.],\n",
       "         [1.],\n",
       "         [1.],\n",
       "         [1.],\n",
       "         [1.],\n",
       "         [1.],\n",
       "         [1.],\n",
       "         [1.],\n",
       "         [1.],\n",
       "         [1.],\n",
       "         [1.],\n",
       "         [1.],\n",
       "         [1.],\n",
       "         [1.],\n",
       "         [1.],\n",
       "         [1.],\n",
       "         [1.],\n",
       "         [1.],\n",
       "         [1.],\n",
       "         [1.],\n",
       "         [1.],\n",
       "         [1.],\n",
       "         [1.],\n",
       "         [1.],\n",
       "         [1.],\n",
       "         [1.]], device='cuda:0', grad_fn=<SliceBackward0>))"
      ]
     },
     "execution_count": 19,
     "metadata": {},
     "output_type": "execute_result"
    }
   ],
   "source": [
    "x_left, t_left\n",
    "x_right, t_right\n",
    "\n",
    "# res, b_left, b_right, b_upper, b_lower = get_data([0,10], [0, 1], N_x, N_t)\n",
    "# res_test, _, _, _, _ = get_data([0,10], [0,1], N_x, N_t)\n",
    "# print(res.shape, b_left.shape, b_right.shape, b_upper.shape, b_lower.shape)\n",
    "# res = torch.tensor(res, dtype=torch.float32, requires_grad=True).to(device)\n",
    "# b_left = torch.tensor(b_left, dtype=torch.float32, requires_grad=True).to(device)\n",
    "# b_right = torch.tensor(b_right, dtype=torch.float32, requires_grad=True).to(device)\n",
    "# b_upper = torch.tensor(b_upper, dtype=torch.float32, requires_grad=True).to(device)\n",
    "# b_lower = torch.tensor(b_lower, dtype=torch.float32, requires_grad=True).to(device)\n",
    "# x_res, t_res = res[:,0:1], res[:,1:2]\n",
    "# x_left, t_left = b_left[:,0:1], b_left[:,1:2]\n",
    "# x_right, t_right = b_right[:,0:1], b_right[:,1:2]\n",
    "# x_upper, t_upper = b_upper[:,0:1], b_upper[:,1:2]\n",
    "# x_lower, t_lower = b_lower[:,0:1], b_lower[:,1:2]\n",
    "\n",
    "# print(x_res.shape, x_left.shape, x_right.shape, x_upper.shape, x_lower.shape)\n",
    "# print(t_res.shape, t_left.shape, t_right.shape, t_upper.shape, t_lower.shape)"
   ]
  },
  {
   "cell_type": "code",
   "execution_count": 16,
   "metadata": {},
   "outputs": [
    {
     "data": {
      "image/png": "[encoded data removed]",
      "text/plain": [
       "<Figure size 640x480 with 1 Axes>"
      ]
     },
     "metadata": {},
     "output_type": "display_data"
    }
   ],
   "source": [
    "# plt.figure(figsize=(4,3))\n",
    "plt.scatter(x_res.cpu().detach().numpy(), t_res.cpu().detach().numpy(), marker='o', color='gray', s=10, alpha=0.4, label='Collocation data')\n",
    "# plt.scatter(x_left.cpu().detach().numpy(), t_left.cpu().detach().numpy(), color='black', s=10, label='Left Boundary Value')\n",
    "plt.scatter(x_right.cpu().detach().numpy(), t_right.cpu().detach().numpy(), marker='v', color='red', s=10, label='Initial Data')\n",
    "plt.scatter(x_upper.cpu().detach().numpy(), t_upper.cpu().detach().numpy(), marker='*', color='blue', s=10, label='Boundary Data')\n",
    "plt.scatter(x_lower.cpu().detach().numpy(), t_lower.cpu().detach().numpy(), marker='*', color='blue', s=10)\n",
    "\n",
    "plt.xlabel('Asset Price')\n",
    "plt.ylabel('Time')\n",
    "plt.title('Datapoint Sampling Example')\n",
    "plt.legend(bbox_to_anchor=(1.05, 1.0), loc='upper left')\n",
    "plt.tight_layout()\n",
    "# plt.savefig('datapoint_sampling_fig')\n",
    "plt.show()"
   ]
  },
  {
   "cell_type": "code",
   "execution_count": 21,
   "metadata": {},
   "outputs": [],
   "source": [
    "def init_weights(m):\n",
    "    if isinstance(m, nn.Linear):\n",
    "        torch.nn.init.xavier_uniform(m.weight)\n",
    "        m.bias.data.fill_(0.01)"
   ]
  },
  {
   "cell_type": "code",
   "execution_count": 22,
   "metadata": {},
   "outputs": [
    {
     "name": "stderr",
     "output_type": "stream",
     "text": [
      "/tmp/ipykernel_1932120/239054705.py:3: UserWarning: nn.init.xavier_uniform is now deprecated in favor of nn.init.xavier_uniform_.\n",
      "  torch.nn.init.xavier_uniform(m.weight)\n"
     ]
    },
    {
     "name": "stdout",
     "output_type": "stream",
     "text": [
      "PINNs(\n",
      "  (linear): Sequential(\n",
      "    (0): Linear(in_features=2, out_features=20, bias=True)\n",
      "    (1): Tanh()\n",
      "    (2): Linear(in_features=20, out_features=20, bias=True)\n",
      "    (3): Tanh()\n",
      "    (4): Linear(in_features=20, out_features=20, bias=True)\n",
      "    (5): Tanh()\n",
      "    (6): Linear(in_features=20, out_features=1, bias=True)\n",
      "  )\n",
      ")\n",
      "921\n"
     ]
    }
   ],
   "source": [
    "model = PINNs(in_dim=2, hidden_dim=20, out_dim=1, num_layer=4).to(device)\n",
    "\n",
    "model.apply(init_weights)\n",
    "# optim = LBFGS(model.parameters(), line_search_fn='strong_wolfe')\n",
    "optim = Adam(model.parameters(), lr=0.001)\n",
    "\n",
    "n_params = get_n_params(model)\n",
    "\n",
    "print(model)\n",
    "print(get_n_params(model))"
   ]
  },
  {
   "cell_type": "code",
   "execution_count": 23,
   "metadata": {},
   "outputs": [
    {
     "name": "stderr",
     "output_type": "stream",
     "text": [
      "  0%|          | 0/10 [00:00<?, ?it/s]"
     ]
    },
    {
     "name": "stderr",
     "output_type": "stream",
     "text": [
      "100%|██████████| 10/10 [00:00<00:00, 15.15it/s]"
     ]
    },
    {
     "name": "stdout",
     "output_type": "stream",
     "text": [
      "0/10 PDE Loss: 0.01555, BVP Loss: 2.17983, IC Loss: 16.30608,\n"
     ]
    },
    {
     "name": "stderr",
     "output_type": "stream",
     "text": [
      "\n"
     ]
    }
   ],
   "source": [
    "loss_track = []\n",
    "n_epochs = 10\n",
    "\n",
    "for i in tqdm(range(n_epochs)):\n",
    "  def closure():\n",
    "    pred_res = model(x_res, t_res)\n",
    "    pred_left = model(x_left, t_left)\n",
    "    pred_right = model(x_right, t_right)\n",
    "    pred_upper = model(x_upper, t_upper)\n",
    "    pred_lower = model(x_lower, t_lower)\n",
    "\n",
    "    u_x = torch.autograd.grad(pred_res, x_res, grad_outputs=torch.ones_like(pred_res), retain_graph=True, create_graph=True)[0]\n",
    "    u_xx = torch.autograd.grad(u_x, x_res, grad_outputs=torch.ones_like(pred_res), retain_graph=True, create_graph=True)[0]\n",
    "    u_t = torch.autograd.grad(pred_res, t_res, grad_outputs=torch.ones_like(pred_res), retain_graph=True, create_graph=True)[0]\n",
    "\n",
    "    loss_res = torch.mean((u_t - ((sigma**2 * x_res**2) / 2) * u_xx - (r * x_res) * u_x + (r * pred_res)) ** 2)\n",
    "    loss_bc = torch.mean((pred_upper) ** 2) + torch.mean((pred_lower - (K * torch.exp(-r * t_lower))) ** 2)\n",
    "    loss_ic = torch.mean((pred_left[:,0] - torch.max(K - x_left[:,0], torch.zeros(x_left[:,0].shape).to(device))) ** 2)\n",
    "\n",
    "    loss_track.append([loss_res.item(), loss_ic.item(), loss_bc.item()])\n",
    "    loss = loss_res + loss_ic + loss_bc\n",
    "    optim.zero_grad()\n",
    "    loss.backward()\n",
    "    return loss\n",
    "\n",
    "  optim.step(closure)\n",
    "  if i % 10 == 0:\n",
    "        print(f'{i}/{n_epochs} PDE Loss: {loss_track[-1][0]:.5f}, BVP Loss: {loss_track[-1][1]:.5f}, IC Loss: {loss_track[-1][2]:.5f},')"
   ]
  },
  {
   "cell_type": "code",
   "execution_count": 10,
   "metadata": {},
   "outputs": [
    {
     "name": "stdout",
     "output_type": "stream",
     "text": [
      "Loss Res: 0.453174, Loss_BC: 0.153905, Loss_IC: 0.301715\n",
      "Train Loss: 0.908794\n"
     ]
    }
   ],
   "source": [
    "print('Loss Res: {:4f}, Loss_BC: {:4f}, Loss_IC: {:4f}'.format(loss_track[-1][0], loss_track[-1][1], loss_track[-1][2]))\n",
    "print('Train Loss: {:4f}'.format(np.sum(loss_track[-1])))"
   ]
  },
  {
   "cell_type": "markdown",
   "metadata": {},
   "source": [
    "## Using LBFGS for further training"
   ]
  },
  {
   "cell_type": "code",
   "execution_count": 11,
   "metadata": {},
   "outputs": [
    {
     "name": "stdout",
     "output_type": "stream",
     "text": [
      "PINNs(\n",
      "  (linear): Sequential(\n",
      "    (0): Linear(in_features=2, out_features=20, bias=True)\n",
      "    (1): Tanh()\n",
      "    (2): Linear(in_features=20, out_features=20, bias=True)\n",
      "    (3): Tanh()\n",
      "    (4): Linear(in_features=20, out_features=20, bias=True)\n",
      "    (5): Tanh()\n",
      "    (6): Linear(in_features=20, out_features=1, bias=True)\n",
      "  )\n",
      ")\n",
      "921\n"
     ]
    }
   ],
   "source": [
    "optim2 = LBFGS(model.parameters())\n",
    "n_params = get_n_params(model)\n",
    "\n",
    "print(model)\n",
    "print(get_n_params(model))"
   ]
  },
  {
   "cell_type": "code",
   "execution_count": 12,
   "metadata": {},
   "outputs": [
    {
     "name": "stderr",
     "output_type": "stream",
     "text": [
      "  1%|          | 1/150 [00:00<01:07,  2.21it/s]"
     ]
    },
    {
     "name": "stdout",
     "output_type": "stream",
     "text": [
      "0/150 PDE Loss: 0.00225, BVP Loss: 0.01055, IC Loss: 0.00074,\n"
     ]
    },
    {
     "name": "stderr",
     "output_type": "stream",
     "text": [
      " 67%|██████▋   | 101/150 [00:45<00:24,  2.00it/s]"
     ]
    },
    {
     "name": "stdout",
     "output_type": "stream",
     "text": [
      "100/150 PDE Loss: 0.00003, BVP Loss: 0.00006, IC Loss: 0.00000,\n"
     ]
    },
    {
     "name": "stderr",
     "output_type": "stream",
     "text": [
      "100%|██████████| 150/150 [01:07<00:00,  2.23it/s]\n"
     ]
    }
   ],
   "source": [
    "lbfgs_loss_track = []\n",
    "n_epochs = 150\n",
    "\n",
    "for i in tqdm(range(n_epochs)):\n",
    "  def closure():\n",
    "    pred_res = model(x_res, t_res)\n",
    "    pred_left = model(x_left, t_left)\n",
    "    pred_right = model(x_right, t_right)\n",
    "    pred_upper = model(x_upper, t_upper)\n",
    "    pred_lower = model(x_lower, t_lower)\n",
    "\n",
    "    u_x = torch.autograd.grad(pred_res, x_res, grad_outputs=torch.ones_like(pred_res), retain_graph=True, create_graph=True)[0]\n",
    "    u_xx = torch.autograd.grad(u_x, x_res, grad_outputs=torch.ones_like(pred_res), retain_graph=True, create_graph=True)[0]\n",
    "    u_t = torch.autograd.grad(pred_res, t_res, grad_outputs=torch.ones_like(pred_res), retain_graph=True, create_graph=True)[0]\n",
    "\n",
    "    loss_res = torch.mean((u_t - ((sigma**2 * x_res**2) / 2) * u_xx - (r * x_res) * u_x + (r * pred_res)) ** 2)\n",
    "    loss_bc = torch.mean((pred_upper) ** 2) + torch.mean((pred_lower - (K * torch.exp(-r * t_lower))) ** 2)\n",
    "    loss_ic = torch.mean((pred_left[:,0] - torch.max(K - x_left[:,0], torch.zeros(x_left[:,0].shape).to(device))) ** 2)\n",
    "\n",
    "    lbfgs_loss_track.append([loss_res.item(), loss_ic.item(), loss_bc.item()])\n",
    "    loss = loss_res + loss_ic + loss_bc\n",
    "    optim2.zero_grad()\n",
    "    loss.backward()\n",
    "    return loss\n",
    "\n",
    "  optim2.step(closure)\n",
    "  if i % 100 == 0:\n",
    "        print(f'{i}/{n_epochs} PDE Loss: {lbfgs_loss_track[-1][0]:.5f}, BVP Loss: {lbfgs_loss_track[-1][1]:.5f}, IC Loss: {lbfgs_loss_track[-1][2]:.5f},')"
   ]
  },
  {
   "cell_type": "code",
   "execution_count": 13,
   "metadata": {},
   "outputs": [
    {
     "name": "stdout",
     "output_type": "stream",
     "text": [
      "Loss Res: 0.000024, Loss_BC: 0.000027, Loss_IC: 0.000000\n",
      "Train Loss: 0.000050\n"
     ]
    }
   ],
   "source": [
    "print('Loss Res: {:4f}, Loss_BC: {:4f}, Loss_IC: {:4f}'.format(lbfgs_loss_track[-1][0], lbfgs_loss_track[-1][1], lbfgs_loss_track[-1][2]))\n",
    "print('Train Loss: {:4f}'.format(np.sum(lbfgs_loss_track[-1])))"
   ]
  },
  {
   "cell_type": "code",
   "execution_count": null,
   "metadata": {},
   "outputs": [],
   "source": []
  }
 ],
 "metadata": {
  "kernelspec": {
   "display_name": "PF",
   "language": "python",
   "name": "python3"
  },
  "language_info": {
   "codemirror_mode": {
    "name": "ipython",
    "version": 3
   },
   "file_extension": ".py",
   "mimetype": "text/x-python",
   "name": "python",
   "nbconvert_exporter": "python",
   "pygments_lexer": "ipython3",
   "version": "3.10.12"
  },
  "orig_nbformat": 4
 },
 "nbformat": 4,
 "nbformat_minor": 2
}

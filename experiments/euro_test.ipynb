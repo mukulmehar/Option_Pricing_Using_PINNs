{
 "cells": [
  {
   "cell_type": "code",
   "execution_count": 3,
   "metadata": {},
   "outputs": [],
   "source": [
    "from io import IncrementalNewlineDecoder\n",
    "import torch\n",
    "import torch.autograd as tgrad\n",
    "import numpy as np\n",
    "import matplotlib.pyplot as plt\n",
    "import torch.nn as nn\n",
    "import pandas as pd\n",
    "%matplotlib inline\n",
    "     \n",
    "\n",
    "DEVICE = torch.device(\"cuda:0\" if torch.cuda.is_available() else \"cpu\")\n",
    "torch.set_default_device(DEVICE)     "
   ]
  },
  {
   "cell_type": "markdown",
   "metadata": {},
   "source": [
    "## Call Option Pricing"
   ]
  },
  {
   "cell_type": "code",
   "execution_count": 6,
   "metadata": {},
   "outputs": [],
   "source": [
    "S = torch.Tensor([80]).requires_grad_()\n",
    "t = torch.Tensor([0]).requires_grad_()\n",
    "sigma = torch.Tensor([0.3]).requires_grad_()\n",
    "r = torch.Tensor([0.05]).requires_grad_()\n",
    "K = torch.Tensor([70])\n",
    "T = torch.Tensor([1])\n",
    "t2m = T-t\n",
    "\n",
    "d1 = (torch.log(S / K) + (r + 0.5 * sigma**2) * t2m)/(sigma * torch.sqrt(t2m))\n",
    "d2 = d1 - sigma * torch.sqrt(t2m)"
   ]
  },
  {
   "cell_type": "code",
   "execution_count": 9,
   "metadata": {},
   "outputs": [
    {
     "name": "stdout",
     "output_type": "stream",
     "text": [
      "Option Price: 17.014957427978516\n"
     ]
    }
   ],
   "source": [
    "N0 = lambda value: 0.5 * (1 + torch.erf((value/2**0.5))) #normal cdf\n",
    "Nd1 = N0(d1)\n",
    "Nd2 = N0(d2)\n",
    "C = S* Nd1 - K* Nd2 *torch.exp(-r*t2m)\n",
    "print(\"Option Price:\", C.item())"
   ]
  },
  {
   "cell_type": "markdown",
   "metadata": {},
   "source": [
    "### Differential Equation"
   ]
  },
  {
   "cell_type": "code",
   "execution_count": 11,
   "metadata": {},
   "outputs": [
    {
     "data": {
      "text/plain": [
       "tensor([-5.8385], grad_fn=<NegBackward0>)"
      ]
     },
     "execution_count": 11,
     "metadata": {},
     "output_type": "execute_result"
    }
   ],
   "source": [
    "# First Derivative of Call option pricing function wrt time\n",
    "dCdt = tgrad.grad(C, t, create_graph=True, only_inputs=True)[0]\n",
    "dCdt"
   ]
  },
  {
   "cell_type": "code",
   "execution_count": 12,
   "metadata": {},
   "outputs": [
    {
     "data": {
      "text/plain": [
       "(tensor([0.7769], grad_fn=<AddBackward0>),\n",
       " tensor([0.0124], grad_fn=<AddBackward0>),\n",
       " tensor([23.8776], grad_fn=<AddBackward0>))"
      ]
     },
     "execution_count": 12,
     "metadata": {},
     "output_type": "execute_result"
    }
   ],
   "source": [
    "# First Derivative of Call option pricing function wrt stock price\n",
    "dCdS = tgrad.grad(C, S, create_graph=True, only_inputs=True)[0]\n",
    "\n",
    "# Second Derivative of Call option pricing function wrt stock price\n",
    "d2CdS2 = tgrad.grad(dCdS, S, create_graph=True, only_inputs=True)[0]\n",
    "\n",
    "# First Derivative of Call option pricing function wrt volatility\n",
    "dCdvol = tgrad.grad(C, sigma, create_graph=True, only_inputs=True)[0]\n",
    "dCdS,d2CdS2,dCdvol"
   ]
  },
  {
   "cell_type": "code",
   "execution_count": 13,
   "metadata": {},
   "outputs": [
    {
     "data": {
      "text/plain": [
       "tensor([1.7881e-07], grad_fn=<SubBackward0>)"
      ]
     },
     "execution_count": 13,
     "metadata": {},
     "output_type": "execute_result"
    }
   ],
   "source": [
    "# Evaluate differential Equation (approx 0)\n",
    "dCdt.item() + ((0.5*sigma**2) * (S**2)*d2CdS2.item() )+ r*S*dCdS.item() - r*C"
   ]
  }
 ],
 "metadata": {
  "kernelspec": {
   "display_name": ".PF",
   "language": "python",
   "name": ".pf"
  },
  "language_info": {
   "codemirror_mode": {
    "name": "ipython",
    "version": 3
   },
   "file_extension": ".py",
   "mimetype": "text/x-python",
   "name": "python",
   "nbconvert_exporter": "python",
   "pygments_lexer": "ipython3",
   "version": "3.10.12"
  },
  "orig_nbformat": 4
 },
 "nbformat": 4,
 "nbformat_minor": 2
}
